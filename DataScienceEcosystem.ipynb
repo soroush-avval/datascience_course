{
 "cells": [
  {
   "cell_type": "markdown",
   "id": "c9c40fc8-bce8-4077-8e49-1113c911a4d9",
   "metadata": {},
   "source": [
    "# Data Science Tools and Ecosystem"
   ]
  },
  {
   "cell_type": "markdown",
   "id": "411c6ae9-57ff-4316-b914-07df5e4c845a",
   "metadata": {},
   "source": [
    "In this notebook, Data Science Tools and Ecosystem are summarized. This will conclude the exercise 3"
   ]
  },
  {
   "cell_type": "markdown",
   "id": "f5ec5ddb-945f-4da4-b39c-c27478b6cd15",
   "metadata": {},
   "source": [
    "Some of the popular languages that Data Scientists use are:\n",
    "* Python\n",
    "* R\n",
    "* C++"
   ]
  },
  {
   "cell_type": "markdown",
   "id": "26f18f6d-0fe7-4af9-a9e3-6e8f2099752a",
   "metadata": {},
   "source": [
    "Some of the commonly used libraries used by Data Scientists include:\n",
    "* Scipy\n",
    "* Matplotlib\n",
    "* Pandas"
   ]
  },
  {
   "cell_type": "markdown",
   "id": "a692b583-fb7e-49d1-8402-c4db955b7ba3",
   "metadata": {},
   "source": [
    "| Data Science Tools     |\n",
    "|------------------------|\n",
    "| Jupyter Notebook       |\n",
    "| RStudio                |\n",
    "| Apache Zeppelin        |"
   ]
  },
  {
   "cell_type": "markdown",
   "id": "62ac00a5-97ce-42d8-9efe-64ade4129bea",
   "metadata": {},
   "source": [
    "Below are a few examples of evaluating arithmetic expressions in Python.\n",
    "\n",
    "1. **Addition**: `5 + 3 = 8`\n",
    "2. **Subtraction**: `10 - 4 = 6`\n",
    "3. **Multiplication**: `7 * 2 = 14`\n",
    "4. **Division**: `15 / 3 = 5`\n",
    "5. **Exponentiation**: `2 ** 3 = 8`\n",
    "6. **Modulus**: `10 % 3 = 1`"
   ]
  },
  {
   "cell_type": "code",
   "execution_count": 1,
   "id": "bc27d383-b882-4fd2-8701-6f90bb5cbfdc",
   "metadata": {},
   "outputs": [
    {
     "data": {
      "text/plain": [
       "17"
      ]
     },
     "execution_count": 1,
     "metadata": {},
     "output_type": "execute_result"
    }
   ],
   "source": [
    "# This a simple arithmetic expression to mutiply then add integers\n",
    "(3*4)+5"
   ]
  },
  {
   "cell_type": "code",
   "execution_count": 3,
   "id": "9850144a-bcb6-4518-8f50-43ef9dcd9d62",
   "metadata": {},
   "outputs": [
    {
     "name": "stdout",
     "output_type": "stream",
     "text": [
      "3.3333333333333335\n"
     ]
    }
   ],
   "source": [
    "# This will convert 200 minutes to hours by diving by 60\n",
    "minutes = 200\n",
    "hours = minutes/60\n",
    "print(hours)"
   ]
  },
  {
   "cell_type": "markdown",
   "id": "43b9b0d2-c8bf-456b-903d-b01d3690faf8",
   "metadata": {},
   "source": [
    "**Objectives:**\n",
    "\n",
    "- List popular languages for Data Science.\n",
    "- Identify open-source tools used in Data Science.\n",
    "- Understand the basics of Jupyter Notebooks.\n",
    "- Convert units in Python using arithmetic expressions.\n",
    "- Create Markdown cells with different formatting styles."
   ]
  },
  {
   "cell_type": "markdown",
   "id": "9ba6eabb-a27c-4314-9bab-03218b325b9b",
   "metadata": {},
   "source": [
    "## Author\n",
    "Soroush Avval"
   ]
  },
  {
   "cell_type": "code",
   "execution_count": null,
   "id": "c4123089-c32b-4c7b-896c-90a736989221",
   "metadata": {},
   "outputs": [],
   "source": []
  }
 ],
 "metadata": {
  "kernelspec": {
   "display_name": "Python 3 (ipykernel)",
   "language": "python",
   "name": "python3"
  },
  "language_info": {
   "codemirror_mode": {
    "name": "ipython",
    "version": 3
   },
   "file_extension": ".py",
   "mimetype": "text/x-python",
   "name": "python",
   "nbconvert_exporter": "python",
   "pygments_lexer": "ipython3",
   "version": "3.10.14"
  }
 },
 "nbformat": 4,
 "nbformat_minor": 5
}
